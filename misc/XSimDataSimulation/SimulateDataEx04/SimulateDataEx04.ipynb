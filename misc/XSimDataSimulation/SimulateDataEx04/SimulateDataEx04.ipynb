{
 "cells": [
  {
   "cell_type": "markdown",
   "metadata": {},
   "source": [
    "# Simlate Genomic Data\n",
    "This notebook is used to simulate a small genomic dataset that is analysed in the course GELASMSS2019. The material shown here is based on the JuliaCourse held in december 2018 in Munich.\n",
    "\n",
    "In a first step, packages `Distributions` and `Random` must be loaded. After that, we are setting a seed."
   ]
  },
  {
   "cell_type": "code",
   "execution_count": 1,
   "metadata": {},
   "outputs": [],
   "source": [
    "using Distributions, Random\n",
    "Random.seed!(2345);"
   ]
  },
  {
   "cell_type": "markdown",
   "metadata": {},
   "source": [
    "## Initialize The Sampler\n",
    "In a first step we take the code from day2/dataSimulation and modify it to a much smaller example."
   ]
  },
  {
   "cell_type": "code",
   "execution_count": 2,
   "metadata": {},
   "outputs": [],
   "source": [
    "using XSim\n",
    "chrLength = 1.0\n",
    "numChr    = 1\n",
    "numLoci   = 100\n",
    "mutRate   = 0.0\n",
    "locusInt  = chrLength/numLoci\n",
    "mapPos   = collect(0:locusInt:(chrLength-0.0001))\n",
    "geneFreq = fill(0.5,numLoci)\n",
    "XSim.build_genome(numChr,chrLength,numLoci,geneFreq,mapPos,mutRate) "
   ]
  },
  {
   "cell_type": "code",
   "execution_count": 3,
   "metadata": {},
   "outputs": [
    {
     "data": {
      "text/plain": [
       "XSim.GenomeInfo(XSim.ChromosomeInfo[], 0, 0.0, 0.0, Int64[], Float64[])"
      ]
     },
     "execution_count": 3,
     "metadata": {},
     "output_type": "execute_result"
    }
   ],
   "source": [
    "### #checking the result\n",
    "XSim.G"
   ]
  },
  {
   "cell_type": "markdown",
   "metadata": {},
   "source": [
    "## Random Mating In Finite Populations\n",
    "We start by generating a small founder population."
   ]
  },
  {
   "cell_type": "code",
   "execution_count": 4,
   "metadata": {},
   "outputs": [
    {
     "name": "stdout",
     "output_type": "stream",
     "text": [
      "Sampling 2 animals into base population.\n",
      "Sampling 3 animals into base population.\n"
     ]
    },
    {
     "data": {
      "text/plain": [
       "XSim.Cohort(XSim.Animal[Animal(XSim.Chromosome[Chromosome([1, 0, 1, 0, 1, 0, 0, 1, 0, 1  …  0, 1, 1, 1, 0, 1, 0, 1, 0, 0], [5], [0.0], Float64[])], XSim.Chromosome[Chromosome([1, 0, 1, 0, 1, 1, 1, 0, 0, 0  …  0, 1, 1, 1, 1, 1, 1, 0, 0, 1], [6], [0.0], Float64[])], Float64[], 3, 0, 0, -9999.0, -9999.0, -9999.0), Animal(XSim.Chromosome[Chromosome([0, 0, 1, 0, 0, 0, 0, 0, 1, 1  …  1, 1, 1, 0, 1, 1, 0, 0, 1, 0], [7], [0.0], Float64[])], XSim.Chromosome[Chromosome([1, 0, 1, 1, 0, 1, 1, 1, 0, 0  …  0, 0, 1, 1, 0, 1, 0, 1, 1, 1], [8], [0.0], Float64[])], Float64[], 4, 0, 0, -9999.0, -9999.0, -9999.0), Animal(XSim.Chromosome[Chromosome([0, 0, 0, 0, 0, 1, 1, 1, 0, 0  …  0, 1, 1, 1, 0, 0, 1, 0, 1, 0], [9], [0.0], Float64[])], XSim.Chromosome[Chromosome([1, 1, 0, 0, 1, 0, 1, 1, 0, 1  …  1, 0, 0, 0, 0, 1, 0, 1, 1, 0], [10], [0.0], Float64[])], Float64[], 5, 0, 0, -9999.0, -9999.0, -9999.0)], Array{Int64}(0,0))"
      ]
     },
     "execution_count": 4,
     "metadata": {},
     "output_type": "execute_result"
    }
   ],
   "source": [
    "### # specify the number of sires and dams\n",
    "popSizeFounderSire=2\n",
    "popSizeFounderDam=3\n",
    "### # sample the founder population\n",
    "sires = sampleFounders(popSizeFounderSire)\n",
    "dams = sampleFounders(popSizeFounderDam)"
   ]
  },
  {
   "cell_type": "markdown",
   "metadata": {},
   "source": [
    "The function `sampleFounders()` uses the information from the initialized genome stored in `XSim.G`. The returned results are assigned to `sires` and `dams` which are cohorts. "
   ]
  },
  {
   "cell_type": "markdown",
   "metadata": {},
   "source": [
    "## Check\n",
    "We do an intermediate check of the sampled genotypes."
   ]
  },
  {
   "cell_type": "code",
   "execution_count": 5,
   "metadata": {},
   "outputs": [
    {
     "data": {
      "text/plain": [
       "5×100 Array{Int64,2}:\n",
       " 2  1  0  2  2  1  1  2  1  1  1  0  1  …  1  2  1  1  1  0  2  1  1  2  0  1\n",
       " 1  1  1  1  0  0  1  1  0  0  1  2  0     1  1  0  0  1  1  0  1  1  2  0  2\n",
       " 2  0  2  0  2  1  1  1  0  1  2  1  1     2  1  0  2  2  2  1  2  1  1  0  1\n",
       " 1  0  2  1  0  1  1  1  1  1  1  1  2     0  1  1  1  2  1  1  2  0  1  2  1\n",
       " 1  1  0  0  1  1  2  2  0  1  0  2  0     2  0  1  1  1  1  0  1  1  1  2  0"
      ]
     },
     "execution_count": 5,
     "metadata": {},
     "output_type": "execute_result"
    }
   ],
   "source": [
    "animalFounders = concatCohorts(sires,dams)\n",
    "MFounders = getOurGenotypes(animalFounders)"
   ]
  },
  {
   "cell_type": "markdown",
   "metadata": {},
   "source": [
    "The function `concatCohorts()` is used to combine two cohorts. The function `getOurGenotypes()` extracts the genotypes of all animals in the specified cohort."
   ]
  },
  {
   "cell_type": "markdown",
   "metadata": {},
   "source": [
    "## Random Mating\n",
    "The founder cohorts are used to generate a first generation via randomly mating the sires and dams from the founder cohort. "
   ]
  },
  {
   "cell_type": "code",
   "execution_count": 6,
   "metadata": {},
   "outputs": [
    {
     "name": "stdout",
     "output_type": "stream",
     "text": [
      "Generation     2: sampling     2 males and     2 females\n"
     ]
    }
   ],
   "source": [
    "ngen,popSize = 1,5\n",
    "sires1,dams1,gen1 = sampleRan(popSize, ngen, sires, dams);"
   ]
  },
  {
   "cell_type": "markdown",
   "metadata": {},
   "source": [
    "We use `sires1` and `dams1` to produce a second generation"
   ]
  },
  {
   "cell_type": "code",
   "execution_count": 7,
   "metadata": {},
   "outputs": [
    {
     "name": "stdout",
     "output_type": "stream",
     "text": [
      "Generation     2: sampling     6 males and     6 females\n"
     ]
    }
   ],
   "source": [
    "ngen, popSize = 1,11\n",
    "sires2,dams2,gen2 = sampleRan(popSize, ngen, sires1, dams1);"
   ]
  },
  {
   "cell_type": "markdown",
   "metadata": {},
   "source": [
    "All sampled animals are combined into a single cohort called `animals`."
   ]
  },
  {
   "cell_type": "code",
   "execution_count": 8,
   "metadata": {},
   "outputs": [],
   "source": [
    "animals=concatCohorts(animalFounders,sires1,dams1,sires2,dams2);"
   ]
  },
  {
   "cell_type": "markdown",
   "metadata": {},
   "source": [
    "We are extracting the genotypes of all animals into an array"
   ]
  },
  {
   "cell_type": "code",
   "execution_count": 9,
   "metadata": {},
   "outputs": [],
   "source": [
    "M = getOurGenotypes(animals);"
   ]
  },
  {
   "cell_type": "markdown",
   "metadata": {},
   "source": [
    "## Randomly Sample The QTL Positions\n",
    "We fix the number of QTL and initialize an index vector with the same length as the number of loci to all FALSE. Then later a random sample in this vector will be set to TRUE. These positions then represent the QTL"
   ]
  },
  {
   "cell_type": "code",
   "execution_count": 10,
   "metadata": {},
   "outputs": [],
   "source": [
    "nQTL   = 5;\n",
    "selQTL = fill(false,numLoci);"
   ]
  },
  {
   "cell_type": "markdown",
   "metadata": {},
   "source": [
    "Using the `sample()` function to determine the QTL positions"
   ]
  },
  {
   "cell_type": "code",
   "execution_count": 11,
   "metadata": {},
   "outputs": [],
   "source": [
    "selQTL[sample(1:numLoci, nQTL, replace=false)] .= true;"
   ]
  },
  {
   "cell_type": "markdown",
   "metadata": {},
   "source": [
    "All positions that are not QTL are set to be markers"
   ]
  },
  {
   "cell_type": "code",
   "execution_count": 12,
   "metadata": {},
   "outputs": [],
   "source": [
    "selMrk =.!selQTL;"
   ]
  },
  {
   "cell_type": "markdown",
   "metadata": {},
   "source": [
    "Genotypes of markers and QTL are separated into two different matrices"
   ]
  },
  {
   "cell_type": "code",
   "execution_count": 13,
   "metadata": {},
   "outputs": [
    {
     "data": {
      "text/plain": [
       "21×5 Array{Int64,2}:\n",
       " 1  0  2  1  2\n",
       " 0  1  1  1  1\n",
       " 1  1  1  0  1\n",
       " 2  2  1  0  1\n",
       " 0  1  1  2  0\n",
       " 0  0  0  1  1\n",
       " 1  1  1  0  2\n",
       " 2  1  2  0  1\n",
       " 0  1  1  0  2\n",
       " 0  1  0  0  2\n",
       " 1  0  1  1  1\n",
       " 0  0  1  1  1\n",
       " 0  1  0  0  2\n",
       " 1  1  1  1  1\n",
       " 1  1  2  0  2\n",
       " 0  1  0  0  2\n",
       " 1  1  2  0  2\n",
       " 0  0  0  1  1\n",
       " 0  2  2  0  2\n",
       " 1  0  1  0  2\n",
       " 2  1  1  0  1"
      ]
     },
     "execution_count": 13,
     "metadata": {},
     "output_type": "execute_result"
    }
   ],
   "source": [
    "Q = M[:,selQTL]"
   ]
  },
  {
   "cell_type": "code",
   "execution_count": 14,
   "metadata": {},
   "outputs": [
    {
     "data": {
      "text/plain": [
       "21×95 Array{Int64,2}:\n",
       " 2  1  0  2  2  1  1  2  1  1  1  0  0  …  1  1  1  1  1  0  2  1  1  2  0  1\n",
       " 1  1  1  1  0  0  1  1  0  0  1  2  1     0  1  0  0  1  1  0  1  1  2  0  2\n",
       " 2  0  2  0  2  1  1  1  0  1  2  1  2     0  2  0  2  2  2  1  2  1  1  0  1\n",
       " 1  0  2  1  0  1  1  1  1  1  1  1  1     0  0  1  1  2  1  1  2  0  1  2  1\n",
       " 1  1  0  0  1  1  2  2  0  1  0  2  1     1  2  1  1  1  1  0  1  1  1  2  0\n",
       " 1  1  1  0  1  1  2  1  0  0  1  2  1  …  0  1  0  1  2  2  1  1  1  1  0  2\n",
       " 1  1  1  0  1  0  1  2  0  1  1  1  1     0  2  0  1  1  1  1  2  2  1  0  2\n",
       " 2  0  1  1  2  1  0  2  0  2  1  0  1     0  2  1  2  1  1  1  1  1  2  0  1\n",
       " 2  0  2  1  1  1  1  0  0  0  2  2  2     0  2  0  1  1  1  1  2  2  1  0  2\n",
       " 2  0  2  0  2  2  2  0  0  0  2  2  2     0  2  0  2  2  2  2  2  2  0  0  2\n",
       " 1  1  0  1  1  1  1  2  0  1  0  1  0  …  0  1  1  1  1  1  1  0  1  2  0  2\n",
       " 1  1  1  1  0  0  1  1  0  0  1  2  1     0  1  0  0  1  1  0  1  1  2  0  2\n",
       " 1  1  1  1  0  0  1  1  0  0  1  2  1     0  2  0  2  2  2  2  2  2  0  0  2\n",
       " 2  0  1  1  2  2  1  1  0  1  1  1  1     0  1  1  1  1  1  1  0  1  2  0  2\n",
       " 2  0  2  0  2  1  1  1  0  1  2  1  2     0  2  0  0  0  0  0  2  2  2  0  2\n",
       " 1  1  1  1  0  0  1  1  0  0  1  2  1  …  0  2  0  2  2  2  2  2  2  0  0  2\n",
       " 1  1  0  1  1  1  1  2  0  1  0  1  0     0  2  1  1  0  0  1  1  2  2  0  2\n",
       " 1  1  1  0  1  1  2  1  0  0  1  2  1     0  1  0  0  1  1  0  1  1  2  0  2\n",
       " 1  1  1  0  1  1  2  1  0  0  1  2  1     0  2  0  1  1  1  1  2  2  1  0  2\n",
       " 2  0  2  1  1  0  0  1  0  1  2  1  2     0  2  0  1  1  1  1  2  2  1  0  2\n",
       " 2  0  1  1  2  1  0  2  0  2  1  0  1  …  0  2  0  1  1  1  0  2  1  2  0  1"
      ]
     },
     "execution_count": 14,
     "metadata": {},
     "output_type": "execute_result"
    }
   ],
   "source": [
    "X = M[:,selMrk]"
   ]
  },
  {
   "cell_type": "markdown",
   "metadata": {},
   "source": [
    "## Simulation of breeding values and phenotypic values\n",
    "We start by setting a fixed number of significant QTL. In our case, this corrsponds to the number of columns of the matrix `Q`. These QTL get an associated effect which is then used to generate the breeding values called `a`. Then we add an intercept and a random error term."
   ]
  },
  {
   "cell_type": "code",
   "execution_count": 15,
   "metadata": {},
   "outputs": [
    {
     "name": "stdout",
     "output_type": "stream",
     "text": [
      "genetic variance = 25.0\n"
     ]
    }
   ],
   "source": [
    "nSigQTL = size(Q,2)\n",
    "nObs = size(Q,1)\n",
    "alphaSd = 1\n",
    "alpha = rand(Normal(0,alphaSd),nSigQTL)\n",
    "a = Q*alpha\n",
    "# scaling breeding values to have variance 25.0\n",
    "v = var(a)\n",
    "genVar = 25.0\n",
    "a *= sqrt(genVar/v)\n",
    "va = var(a)\n",
    "# formatted printing\n",
    "println(\"genetic variance = $va\")"
   ]
  },
  {
   "cell_type": "markdown",
   "metadata": {},
   "source": [
    "Computation of `mean` and `sd` require the package `Statistics`."
   ]
  },
  {
   "cell_type": "code",
   "execution_count": 16,
   "metadata": {},
   "outputs": [],
   "source": [
    "using Statistics"
   ]
  },
  {
   "cell_type": "code",
   "execution_count": 17,
   "metadata": {},
   "outputs": [
    {
     "name": "stdout",
     "output_type": "stream",
     "text": [
      "phenotypic mean     = 109.90181519593564\n",
      "phenotypic variance = 88.477856492921\n"
     ]
    }
   ],
   "source": [
    "resVar = 75.0\n",
    "resStd = sqrt(resVar)\n",
    "e = rand(Normal(0,resStd),nObs)\n",
    "intercept = 100\n",
    "y = intercept .+ a + e\n",
    "yMean = Statistics.mean(y)\n",
    "yVar = Statistics.var(y)\n",
    "println(\"phenotypic mean     = $yMean\")\n",
    "println(\"phenotypic variance = $yVar\")\n"
   ]
  },
  {
   "cell_type": "markdown",
   "metadata": {},
   "source": [
    "Generated phenotypic values are assigned to the `animals` cohort. Starting with a single element."
   ]
  },
  {
   "cell_type": "code",
   "execution_count": 18,
   "metadata": {},
   "outputs": [
    {
     "data": {
      "text/plain": [
       "107.07655041720899"
      ]
     },
     "execution_count": 18,
     "metadata": {},
     "output_type": "execute_result"
    }
   ],
   "source": [
    "animals.animalCohort[1].phenVal = y[1]\n"
   ]
  },
  {
   "cell_type": "code",
   "execution_count": 19,
   "metadata": {},
   "outputs": [
    {
     "data": {
      "text/plain": [
       "107.07655041720899"
      ]
     },
     "execution_count": 19,
     "metadata": {},
     "output_type": "execute_result"
    }
   ],
   "source": [
    "animals.animalCohort[1].phenVal"
   ]
  },
  {
   "cell_type": "markdown",
   "metadata": {},
   "source": [
    "In a loop over the vector `y` of phenotypic observations, we assign them to the cohort `animals`. "
   ]
  },
  {
   "cell_type": "code",
   "execution_count": 20,
   "metadata": {},
   "outputs": [
    {
     "name": "stdout",
     "output_type": "stream",
     "text": [
      "Assigning obs: 1 to 107.07655041720899\n",
      "Assigning obs: 2 to 108.1932976613109\n",
      "Assigning obs: 3 to 110.36742835823203\n",
      "Assigning obs: 4 to 119.82147552052876\n",
      "Assigning obs: 5 to 108.68331773722103\n",
      "Assigning obs: 6 to 112.64751318346467\n",
      "Assigning obs: 7 to 105.12421247827402\n",
      "Assigning obs: 8 to 115.93981650491622\n",
      "Assigning obs: 9 to 105.90319005239802\n",
      "Assigning obs: 10 to 105.2884153001376\n",
      "Assigning obs: 11 to 123.131743944857\n",
      "Assigning obs: 12 to 108.7943004157668\n",
      "Assigning obs: 13 to 104.47085951869862\n",
      "Assigning obs: 14 to 110.91329218104056\n",
      "Assigning obs: 15 to 114.22106883176984\n",
      "Assigning obs: 16 to 118.77057236983262\n",
      "Assigning obs: 17 to 104.56577906023557\n",
      "Assigning obs: 18 to 95.6301741165356\n",
      "Assigning obs: 19 to 84.27909120576356\n",
      "Assigning obs: 20 to 127.80912248897306\n",
      "Assigning obs: 21 to 116.30689776748306\n"
     ]
    }
   ],
   "source": [
    "for i in 1:nObs\n",
    "    println(\"Assigning obs: \", i, \" to \", y[i])\n",
    "    animals.animalCohort[i].phenVal = y[i]\n",
    "end"
   ]
  },
  {
   "cell_type": "markdown",
   "metadata": {},
   "source": [
    "Checking back whether assignment worked with "
   ]
  },
  {
   "cell_type": "code",
   "execution_count": 21,
   "metadata": {},
   "outputs": [
    {
     "data": {
      "text/plain": [
       "21-element Array{Float64,1}:\n",
       " 107.07655041720899\n",
       " 108.1932976613109 \n",
       " 110.36742835823203\n",
       " 119.82147552052876\n",
       " 108.68331773722103\n",
       " 112.64751318346467\n",
       " 105.12421247827402\n",
       " 115.93981650491622\n",
       " 105.90319005239802\n",
       " 105.2884153001376 \n",
       " 123.131743944857  \n",
       " 108.7943004157668 \n",
       " 104.47085951869862\n",
       " 110.91329218104056\n",
       " 114.22106883176984\n",
       " 118.77057236983262\n",
       " 104.56577906023557\n",
       "  95.6301741165356 \n",
       "  84.27909120576356\n",
       " 127.80912248897306\n",
       " 116.30689776748306"
      ]
     },
     "execution_count": 21,
     "metadata": {},
     "output_type": "execute_result"
    }
   ],
   "source": [
    "P = getOurPhenVals(animals, resVar)"
   ]
  },
  {
   "cell_type": "markdown",
   "metadata": {},
   "source": [
    "## Writing The Data\n",
    "Now that we have generated the data, we must write them to files. The data consist of \n",
    "\n",
    "* marker and QTL genotypes\n",
    "* phenotypic observations\n",
    "* pedigree information\n",
    "\n",
    "Before the data is written, we first delete any old files from previous runs. Otherwise new data gets appended to the old files."
   ]
  },
  {
   "cell_type": "code",
   "execution_count": 22,
   "metadata": {},
   "outputs": [],
   "source": [
    "outFile = \"data_ex04\"\n",
    "# delete old files first\n",
    "run(`\\rm -f $outFile.ped`)\n",
    "run(`\\rm -f $outFile.phe`)\n",
    "run(`\\rm -f $outFile.brc`)\n",
    "run(`\\rm -f $outFile.gen`)\n",
    "# write new output    \n",
    "outputPedigree(animals, outFile)"
   ]
  },
  {
   "cell_type": "markdown",
   "metadata": {},
   "source": [
    "## Convert This Notebook\n"
   ]
  },
  {
   "cell_type": "code",
   "execution_count": 23,
   "metadata": {},
   "outputs": [
    {
     "name": "stderr",
     "output_type": "stream",
     "text": [
      "[TerminalIPythonApp] WARNING | Subcommand `ipython nbconvert` is deprecated and will be removed in future versions.\n",
      "[TerminalIPythonApp] WARNING | You likely want to use `jupyter nbconvert` in the future\n",
      "[NbConvertApp] Converting notebook SimulateDataEx04.ipynb to html\n",
      "[NbConvertApp] Writing 309182 bytes to SimulateDataEx04.html\n"
     ]
    }
   ],
   "source": [
    ";ipython nbconvert SimulateDataEx04.ipynb"
   ]
  },
  {
   "cell_type": "code",
   "execution_count": null,
   "metadata": {},
   "outputs": [],
   "source": []
  }
 ],
 "metadata": {
  "kernelspec": {
   "display_name": "Julia 1.1.0",
   "language": "julia",
   "name": "julia-1.1"
  },
  "language_info": {
   "file_extension": ".jl",
   "mimetype": "application/julia",
   "name": "julia",
   "version": "1.1.0"
  }
 },
 "nbformat": 4,
 "nbformat_minor": 2
}
