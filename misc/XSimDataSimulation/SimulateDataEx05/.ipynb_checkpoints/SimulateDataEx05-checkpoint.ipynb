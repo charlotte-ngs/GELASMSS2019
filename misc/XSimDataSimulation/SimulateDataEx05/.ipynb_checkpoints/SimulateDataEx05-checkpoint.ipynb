{
 "cells": [
  {
   "cell_type": "markdown",
   "metadata": {},
   "source": [
    "# Simlate Genomic Data for Exercise 5\n",
    "This notebook is used to simulate a small genomic dataset that is analysed in the course GELASMSS2019. The material shown here is based on the JuliaCourse held in december 2018 in Munich.\n",
    "\n",
    "In a first step, packages `Distributions` and `Random` must be loaded. After that, we are setting a seed."
   ]
  },
  {
   "cell_type": "code",
   "execution_count": 1,
   "metadata": {},
   "outputs": [],
   "source": [
    "using Distributions, Random\n",
    "Random.seed!(2345);"
   ]
  },
  {
   "cell_type": "markdown",
   "metadata": {},
   "source": [
    "## Initialize The Sampler\n",
    "In a first step we take the code from day2/dataSimulation and modify it to a much smaller example."
   ]
  },
  {
   "cell_type": "code",
   "execution_count": 2,
   "metadata": {},
   "outputs": [],
   "source": [
    "using XSim\n",
    "chrLength = 1.0\n",
    "numChr    = 1\n",
    "numLoci   = 100\n",
    "mutRate   = 0.0\n",
    "locusInt  = chrLength/numLoci\n",
    "mapPos   = collect(0:locusInt:(chrLength-0.0001))\n",
    "geneFreq = fill(0.5,numLoci)\n",
    "XSim.build_genome(numChr,chrLength,numLoci,geneFreq,mapPos,mutRate) "
   ]
  },
  {
   "cell_type": "code",
   "execution_count": 3,
   "metadata": {},
   "outputs": [
    {
     "data": {
      "text/plain": [
       "XSim.GenomeInfo(XSim.ChromosomeInfo[], 0, 0.0, 0.0, Int64[], Float64[])"
      ]
     },
     "execution_count": 3,
     "metadata": {},
     "output_type": "execute_result"
    }
   ],
   "source": [
    "### #checking the result\n",
    "XSim.G"
   ]
  },
  {
   "cell_type": "markdown",
   "metadata": {},
   "source": [
    "## Random Mating In Finite Populations\n",
    "We start by generating a small founder population. In this exercise, we give a haplotype file as input which are then assigned to our founders. This is according to the example of day2/XSimMating."
   ]
  },
  {
   "cell_type": "code",
   "execution_count": 4,
   "metadata": {},
   "outputs": [
    {
     "name": "stdout",
     "output_type": "stream",
     "text": [
      "Sampling 5 animals into base population.\n"
     ]
    }
   ],
   "source": [
    "### # specify the number of founders\n",
    "popSizeFounder=5\n",
    "### # sample the founders\n",
    "basePop = sampleFounders(popSizeFounder, \"founder_hap.txt\");\n"
   ]
  },
  {
   "cell_type": "markdown",
   "metadata": {},
   "source": [
    "The base population is separated into males and females"
   ]
  },
  {
   "cell_type": "code",
   "execution_count": 5,
   "metadata": {},
   "outputs": [],
   "source": [
    "nMaleFounder = 2\n",
    "basePopMales = XSim.Cohort(Array{XSim.Animal,1}(undef,0),Array{Int64,2}(undef,0,0))\n",
    "basePopMales.animalCohort = basePop.animalCohort[1:nMaleFounder];\n",
    "nFemaleFounder = popSizeFounder - nMaleFounder\n",
    "basePopFemales = XSim.Cohort(Array{XSim.Animal,1}(undef,0),Array{Int64,2}(undef,0,0))\n",
    "basePopFemales.animalCohort = basePop.animalCohort[(nMaleFounder + 1):popSizeFounder];"
   ]
  },
  {
   "cell_type": "markdown",
   "metadata": {},
   "source": [
    "## Check\n",
    "We do an intermediate check of the sampled genotypes. The cohorts do not have to be concatenated, because, we already have them together in basePop."
   ]
  },
  {
   "cell_type": "code",
   "execution_count": 6,
   "metadata": {},
   "outputs": [
    {
     "data": {
      "text/plain": [
       "5×100 Array{Int64,2}:\n",
       " 2  1  0  2  2  1  1  2  1  1  1  0  1  …  1  2  1  1  1  0  2  1  1  2  0  1\n",
       " 1  1  1  1  0  0  1  1  0  0  1  2  0     1  1  0  0  1  1  0  1  1  2  0  2\n",
       " 2  0  2  0  2  1  1  1  0  1  2  1  1     2  1  0  2  2  2  1  2  1  1  0  1\n",
       " 1  0  2  1  0  1  1  1  1  1  1  1  2     0  1  1  1  2  1  1  2  0  1  2  1\n",
       " 1  1  0  0  1  1  2  2  0  1  0  2  0     2  0  1  1  1  1  0  1  1  1  2  0"
      ]
     },
     "execution_count": 6,
     "metadata": {},
     "output_type": "execute_result"
    }
   ],
   "source": [
    "\n",
    "MFounders = getOurGenotypes(basePop)"
   ]
  },
  {
   "cell_type": "markdown",
   "metadata": {},
   "source": [
    "## Random Mating\n",
    "The founder cohorts in `basePop` are used to generate offspring from the first generation via randomly mating the sires and dams from the founder cohort. We use `basePopMales` and `basePopFemales` to produce a second generation"
   ]
  },
  {
   "cell_type": "code",
   "execution_count": 7,
   "metadata": {},
   "outputs": [
    {
     "name": "stdout",
     "output_type": "stream",
     "text": [
      "Generation     2: sampling     2 males and     2 females\n"
     ]
    }
   ],
   "source": [
    "ngen,popSize = 1,5\n",
    "sires1,dams1,gen1 = sampleRan(popSize, ngen, basePopMales, basePopFemales);"
   ]
  },
  {
   "cell_type": "code",
   "execution_count": 8,
   "metadata": {},
   "outputs": [
    {
     "name": "stdout",
     "output_type": "stream",
     "text": [
      "Generation     2: sampling     6 males and     6 females\n"
     ]
    }
   ],
   "source": [
    "ngen, popSize = 1,11\n",
    "sires2,dams2,gen2 = sampleRan(popSize, ngen, sires1, dams1);"
   ]
  },
  {
   "cell_type": "markdown",
   "metadata": {},
   "source": [
    "All sampled animals are combined into a single cohort called `animals`."
   ]
  },
  {
   "cell_type": "code",
   "execution_count": 9,
   "metadata": {},
   "outputs": [],
   "source": [
    "animals=concatCohorts(basePop,sires1,dams1,sires2,dams2);"
   ]
  },
  {
   "cell_type": "markdown",
   "metadata": {},
   "source": [
    "We use animal 6 as a sire and animal 9 as a dam to produce two more males and two more female offspring animals."
   ]
  },
  {
   "cell_type": "code",
   "execution_count": 13,
   "metadata": {},
   "outputs": [
    {
     "data": {
      "text/plain": [
       "1-element Array{XSim.Animal,1}:\n",
       " XSim.Animal(XSim.Chromosome[Chromosome(Int64[], [4, 3], [0.0, 0.903508])], XSim.Chromosome[Chromosome(Int64[], [6], [0.0])], Float64[], 9, 2, 3, -9999.0, -9999.0, -9999.0)"
      ]
     },
     "execution_count": 13,
     "metadata": {},
     "output_type": "execute_result"
    }
   ],
   "source": [
    "sire6 = XSim.Cohort(Array{XSim.Animal,1}(undef,0),Array{Int64,2}(undef,0,0))\n",
    "sire6.animalCohort = animals.animalCohort[6:6]\n",
    "dam9 = XSim.Cohort(Array{XSim.Animal,1}(undef,0),Array{Int64,2}(undef,0,0))\n",
    "dam9.animalCohort = animals.animalCohort[9:9]"
   ]
  },
  {
   "cell_type": "markdown",
   "metadata": {},
   "source": [
    "sire6 and dam9 are parents of four offspring."
   ]
  },
  {
   "cell_type": "code",
   "execution_count": 15,
   "metadata": {},
   "outputs": [
    {
     "name": "stdout",
     "output_type": "stream",
     "text": [
      "Generation     2: sampling     2 males and     2 females\n"
     ]
    },
    {
     "data": {
      "text/plain": [
       "(XSim.Cohort(XSim.Animal[Animal(XSim.Chromosome[Chromosome(Int64[], [1, 6], [0.0, 0.0599605])], XSim.Chromosome[Chromosome(Int64[], [4, 6], [0.0, 0.421812])], Float64[], 22, 6, 9, -9999.0, -9999.0, -9999.0), Animal(XSim.Chromosome[Chromosome(Int64[], [1, 2, 1, 6], [0.0, 0.425391, 0.688324, 0.816385])], XSim.Chromosome[Chromosome(Int64[], [4, 6], [0.0, 0.263561])], Float64[], 23, 6, 9, -9999.0, -9999.0, -9999.0)], Array{Int64}(0,0)), XSim.Cohort(XSim.Animal[Animal(XSim.Chromosome[Chromosome(Int64[], [1, 2, 1, 6], [0.0, 0.425391, 0.688324, 0.884986])], XSim.Chromosome[Chromosome(Int64[], [4, 6], [0.0, 0.531522])], Float64[], 24, 6, 9, -9999.0, -9999.0, -9999.0), Animal(XSim.Chromosome[Chromosome(Int64[], [5, 6, 2, 1], [0.0, 0.0437567, 0.442916, 0.688324])], XSim.Chromosome[Chromosome(Int64[], [6, 4, 6], [0.0, 0.322201, 0.469019])], Float64[], 25, 6, 9, -9999.0, -9999.0, -9999.0)], Array{Int64}(0,0)), 2)"
      ]
     },
     "execution_count": 15,
     "metadata": {},
     "output_type": "execute_result"
    }
   ],
   "source": [
    "ngen, popSize = 1,4\n",
    "offspringMales,offspringFemales,gen3 = sampleRan(popSize, ngen, sire6, dam9)"
   ]
  },
  {
   "cell_type": "markdown",
   "metadata": {},
   "source": [
    "Combining all animals into a singel cohort and writing the data to files\n"
   ]
  },
  {
   "cell_type": "code",
   "execution_count": 17,
   "metadata": {},
   "outputs": [],
   "source": [
    "animals=concatCohorts(animals,offspringMales,offspringFemales);"
   ]
  },
  {
   "cell_type": "markdown",
   "metadata": {},
   "source": [
    "## Randomly Sample The QTL Positions\n",
    "We fix the number of QTL and initialize an index vector with the same length as the number of loci to all FALSE. Then later a random sample in this vector will be set to TRUE. These positions then represent the QTL"
   ]
  },
  {
   "cell_type": "code",
   "execution_count": null,
   "metadata": {},
   "outputs": [],
   "source": [
    "nQTL   = 5;\n",
    "selQTL = fill(false,numLoci);"
   ]
  },
  {
   "cell_type": "markdown",
   "metadata": {},
   "source": [
    "Using the `sample()` function to determine the QTL positions"
   ]
  },
  {
   "cell_type": "code",
   "execution_count": null,
   "metadata": {},
   "outputs": [],
   "source": [
    "selQTL[sample(1:numLoci, nQTL, replace=false)] .= true;"
   ]
  },
  {
   "cell_type": "markdown",
   "metadata": {},
   "source": [
    "All positions that are not QTL are set to be markers"
   ]
  },
  {
   "cell_type": "code",
   "execution_count": null,
   "metadata": {},
   "outputs": [],
   "source": [
    "selMrk =.!selQTL;"
   ]
  },
  {
   "cell_type": "markdown",
   "metadata": {},
   "source": [
    "Genotypes of markers and QTL are separated into two different matrices"
   ]
  },
  {
   "cell_type": "code",
   "execution_count": null,
   "metadata": {},
   "outputs": [],
   "source": [
    "Q = M[:,selQTL]"
   ]
  },
  {
   "cell_type": "code",
   "execution_count": null,
   "metadata": {},
   "outputs": [],
   "source": [
    "X = M[:,selMrk]"
   ]
  },
  {
   "cell_type": "markdown",
   "metadata": {},
   "source": [
    "## Simulation of breeding values and phenotypic values\n",
    "We start by setting a fixed number of significant QTL. In our case, this corrsponds to the number of columns of the matrix `Q`. These QTL get an associated effect which is then used to generate the breeding values called `a`. Then we add an intercept and a random error term."
   ]
  },
  {
   "cell_type": "code",
   "execution_count": null,
   "metadata": {},
   "outputs": [],
   "source": [
    "nSigQTL = size(Q,2)\n",
    "nObs = size(Q,1)\n",
    "alphaSd = 1\n",
    "alpha = rand(Normal(0,alphaSd),nSigQTL)\n",
    "a = Q*alpha\n",
    "# scaling breeding values to have variance 25.0\n",
    "v = var(a)\n",
    "genVar = 25.0\n",
    "a *= sqrt(genVar/v)\n",
    "va = var(a)\n",
    "# formatted printing\n",
    "println(\"genetic variance = $va\")"
   ]
  },
  {
   "cell_type": "markdown",
   "metadata": {},
   "source": [
    "Computation of `mean` and `sd` require the package `Statistics`."
   ]
  },
  {
   "cell_type": "code",
   "execution_count": null,
   "metadata": {},
   "outputs": [],
   "source": [
    "using Statistics"
   ]
  },
  {
   "cell_type": "code",
   "execution_count": null,
   "metadata": {},
   "outputs": [],
   "source": [
    "resVar = 75.0\n",
    "resStd = sqrt(resVar)\n",
    "e = rand(Normal(0,resStd),nObs)\n",
    "intercept = 100\n",
    "y = intercept .+ a + e\n",
    "yMean = Statistics.mean(y)\n",
    "yVar = Statistics.var(y)\n",
    "println(\"phenotypic mean     = $yMean\")\n",
    "println(\"phenotypic variance = $yVar\")\n"
   ]
  },
  {
   "cell_type": "markdown",
   "metadata": {},
   "source": [
    "Generated phenotypic values are assigned to the `animals` cohort. Starting with a single element."
   ]
  },
  {
   "cell_type": "code",
   "execution_count": null,
   "metadata": {},
   "outputs": [],
   "source": [
    "animals.animalCohort[1].phenVal = y[1]\n"
   ]
  },
  {
   "cell_type": "code",
   "execution_count": null,
   "metadata": {},
   "outputs": [],
   "source": [
    "animals.animalCohort[1].phenVal"
   ]
  },
  {
   "cell_type": "markdown",
   "metadata": {},
   "source": [
    "In a loop over the vector `y` of phenotypic observations, we assign them to the cohort `animals`. "
   ]
  },
  {
   "cell_type": "code",
   "execution_count": null,
   "metadata": {},
   "outputs": [],
   "source": [
    "for i in 1:nObs\n",
    "    println(\"Assigning obs: \", i, \" to \", y[i])\n",
    "    animals.animalCohort[i].phenVal = y[i]\n",
    "end"
   ]
  },
  {
   "cell_type": "markdown",
   "metadata": {},
   "source": [
    "Checking back whether assignment worked with "
   ]
  },
  {
   "cell_type": "code",
   "execution_count": null,
   "metadata": {},
   "outputs": [],
   "source": [
    "P = getOurPhenVals(animals, resVar)"
   ]
  },
  {
   "cell_type": "markdown",
   "metadata": {},
   "source": [
    "## Writing The Data\n",
    "Now that we have generated the data, we must write them to files. The data consist of \n",
    "\n",
    "* marker and QTL genotypes\n",
    "* phenotypic observations\n",
    "* pedigree information\n",
    "\n",
    "Before the data is written, we first delete any old files from previous runs. Otherwise new data gets appended to the old files."
   ]
  },
  {
   "cell_type": "code",
   "execution_count": null,
   "metadata": {},
   "outputs": [],
   "source": [
    "outFile = \"data_ex04\"\n",
    "# delete old files first\n",
    "run(`\\rm -f $outFile.ped`)\n",
    "run(`\\rm -f $outFile.phe`)\n",
    "run(`\\rm -f $outFile.brc`)\n",
    "run(`\\rm -f $outFile.gen`)\n",
    "# write new output    \n",
    "outputPedigree(animals, outFile)"
   ]
  },
  {
   "cell_type": "markdown",
   "metadata": {},
   "source": [
    "## Convert This Notebook\n"
   ]
  },
  {
   "cell_type": "code",
   "execution_count": null,
   "metadata": {},
   "outputs": [],
   "source": [
    ";ipython nbconvert --to slides SimulateDataEx04.ipynb"
   ]
  },
  {
   "cell_type": "code",
   "execution_count": null,
   "metadata": {},
   "outputs": [],
   "source": []
  }
 ],
 "metadata": {
  "kernelspec": {
   "display_name": "Julia 1.0.0",
   "language": "julia",
   "name": "julia-1.0"
  },
  "language_info": {
   "file_extension": ".jl",
   "mimetype": "application/julia",
   "name": "julia",
   "version": "1.0.0"
  }
 },
 "nbformat": 4,
 "nbformat_minor": 2
}
